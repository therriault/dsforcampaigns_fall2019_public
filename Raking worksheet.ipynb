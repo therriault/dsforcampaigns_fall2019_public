{
 "cells": [
  {
   "cell_type": "markdown",
   "metadata": {},
   "source": [
    "# Raking worksheet\n",
    "\n",
    "*Last updated: 9/23/2019 by Andrew Therriault*\n",
    "\n",
    "This worksheet shows how a simple rake weighting algorithm can be used to balance an unrepresentative dataset and reduce bias in survey estimates."
   ]
  },
  {
   "cell_type": "code",
   "execution_count": 1,
   "metadata": {},
   "outputs": [],
   "source": [
    "import numpy as np\n",
    "np.random.seed(1234)\n",
    "import pandas as pd"
   ]
  },
  {
   "cell_type": "markdown",
   "metadata": {},
   "source": [
    "## Creating an artificial dataset with random values of gender, race, and location for 500 respondents"
   ]
  },
  {
   "cell_type": "code",
   "execution_count": 2,
   "metadata": {},
   "outputs": [
    {
     "data": {
      "text/html": [
       "<div>\n",
       "<style scoped>\n",
       "    .dataframe tbody tr th:only-of-type {\n",
       "        vertical-align: middle;\n",
       "    }\n",
       "\n",
       "    .dataframe tbody tr th {\n",
       "        vertical-align: top;\n",
       "    }\n",
       "\n",
       "    .dataframe thead th {\n",
       "        text-align: right;\n",
       "    }\n",
       "</style>\n",
       "<table border=\"1\" class=\"dataframe\">\n",
       "  <thead>\n",
       "    <tr style=\"text-align: right;\">\n",
       "      <th></th>\n",
       "      <th>gender</th>\n",
       "      <th>race</th>\n",
       "      <th>location</th>\n",
       "    </tr>\n",
       "  </thead>\n",
       "  <tbody>\n",
       "    <tr>\n",
       "      <th>881</th>\n",
       "      <td>male</td>\n",
       "      <td>white</td>\n",
       "      <td>urban</td>\n",
       "    </tr>\n",
       "    <tr>\n",
       "      <th>81</th>\n",
       "      <td>male</td>\n",
       "      <td>white</td>\n",
       "      <td>rural</td>\n",
       "    </tr>\n",
       "    <tr>\n",
       "      <th>933</th>\n",
       "      <td>female</td>\n",
       "      <td>white</td>\n",
       "      <td>rural</td>\n",
       "    </tr>\n",
       "    <tr>\n",
       "      <th>391</th>\n",
       "      <td>female</td>\n",
       "      <td>white</td>\n",
       "      <td>suburban</td>\n",
       "    </tr>\n",
       "    <tr>\n",
       "      <th>718</th>\n",
       "      <td>male</td>\n",
       "      <td>white</td>\n",
       "      <td>suburban</td>\n",
       "    </tr>\n",
       "    <tr>\n",
       "      <th>654</th>\n",
       "      <td>female</td>\n",
       "      <td>white</td>\n",
       "      <td>suburban</td>\n",
       "    </tr>\n",
       "    <tr>\n",
       "      <th>463</th>\n",
       "      <td>male</td>\n",
       "      <td>white</td>\n",
       "      <td>rural</td>\n",
       "    </tr>\n",
       "    <tr>\n",
       "      <th>445</th>\n",
       "      <td>female</td>\n",
       "      <td>white</td>\n",
       "      <td>suburban</td>\n",
       "    </tr>\n",
       "    <tr>\n",
       "      <th>657</th>\n",
       "      <td>male</td>\n",
       "      <td>other</td>\n",
       "      <td>urban</td>\n",
       "    </tr>\n",
       "    <tr>\n",
       "      <th>228</th>\n",
       "      <td>female</td>\n",
       "      <td>other</td>\n",
       "      <td>rural</td>\n",
       "    </tr>\n",
       "  </tbody>\n",
       "</table>\n",
       "</div>"
      ],
      "text/plain": [
       "     gender   race  location\n",
       "881    male  white     urban\n",
       "81     male  white     rural\n",
       "933  female  white     rural\n",
       "391  female  white  suburban\n",
       "718    male  white  suburban\n",
       "654  female  white  suburban\n",
       "463    male  white     rural\n",
       "445  female  white  suburban\n",
       "657    male  other     urban\n",
       "228  female  other     rural"
      ]
     },
     "execution_count": 2,
     "metadata": {},
     "output_type": "execute_result"
    }
   ],
   "source": [
    "df = pd.DataFrame()\n",
    "n = 1000\n",
    "df['gender'] = np.random.choice(['female','male'], n, p=[0.4,0.6])\n",
    "df['race'] = np.random.choice(['black','white','other'], n, p=[0.1,0.7,0.2])\n",
    "df['location'] = np.random.choice(['urban','suburban','rural'], n, p=[0.2,0.4,0.4])\n",
    "df.sample(10)"
   ]
  },
  {
   "cell_type": "markdown",
   "metadata": {},
   "source": [
    "## Setting the targets for those characteristics (as marginal distributions) in the broader population\n",
    "These numbers are such that the dataframe is definitely not representative. They are generated independently here, though in the real world they'll probably be correlated."
   ]
  },
  {
   "cell_type": "code",
   "execution_count": 3,
   "metadata": {},
   "outputs": [],
   "source": [
    "targets = {\n",
    "    'gender': {'female': 0.5, 'male': 0.5},\n",
    "    'race': {'black': 0.2, 'white': 0.5, 'other': 0.3},\n",
    "    'location': {'urban': 0.4, 'suburban': 0.35, 'rural': 0.25} \n",
    "}"
   ]
  },
  {
   "cell_type": "markdown",
   "metadata": {},
   "source": [
    "## Defining raking function\n",
    "This function takes three inputs:\n",
    "* a dataset formatted as a dataframe with named columns (in the example, 'gender', 'race', and 'location')\n",
    "* a set of target marginal distributions for each of the variables to be weighted upon, as a dictionary with the first key as the column name in the dataset and the second key as the column value in the dataset, with the value of that second key being the desired proportion\n",
    "* the number of iterations to run for (start small and then observe if convergence occurs)\n",
    "\n",
    "The algorithm I use here is very simple and doesn't account for things like trimming of extreme weights, but will work for this purpose (look at actual weighting packages for more detailed versions).\n",
    "\n",
    "Also, note that after every iteration, I store the weights on each variable that apply to each individual in the main dataframe and recalculate those as a series of successive column multiplications. There's probably a more efficient way to do this which doesn't require setting all those column vaues and instead just applies weights based on characteristics all at once (and that's what I did in an earlier version of this using just two variables), but figuring out how to do that join for an arbitrary number of variables included in weighting makes it a lot more complicated. So if someone wants to submit a pull request for a better version, go for it, but this works fine and any CPU / memory inefficiency is negligible at this scale."
   ]
  },
  {
   "cell_type": "code",
   "execution_count": 4,
   "metadata": {},
   "outputs": [],
   "source": [
    "def rake(data, m=targets, iterations=1):\n",
    "    \n",
    "    data['w'] = 1 #initializing individual weights to 1\n",
    "    mstar = dict() #creating dictionary of marginal distributions of the data\n",
    "    weights = dict() #creating dictionary of weights for each variable and value\n",
    "    \n",
    "    #looping over variables to show initial marginal distributions, initialize individual per-variable weights,\n",
    "    #and initialize variable-value weights\n",
    "    for variable in targets:\n",
    "        print('Initial marginal distributions')\n",
    "        print(data.groupby(variable).w.sum()/len(data))\n",
    "        data['w_{}'.format(variable)] = 1 #initializing individual weights per variable (to be combined later)\n",
    "        weights[variable] = dict()\n",
    "        for value in targets[variable]:\n",
    "            weights[variable][value] = 1 #initializing variable-value weights to 1\n",
    "    \n",
    "    #looping over number of iterations specified\n",
    "    for i in range(iterations):\n",
    "        print('\\nIteration {}'.format(i+1))\n",
    "        #looping over variables to update weights for one variable at a time\n",
    "        for variable in targets:\n",
    "            mstar[variable] = dict()\n",
    "            #loopiing over values to update weights for each variable / value combination\n",
    "            for value in targets[variable]:\n",
    "                mstar[variable][value] = data[data[variable]==value].w.sum()/len(data) #updating marginal distribution\n",
    "                weights[variable][value] = weights[variable][value] * m[variable][value] / mstar[variable][value] #updating weight\n",
    "                data.loc[data[variable]==value,'w_{}'.format(variable)] = weights[variable][value] #setting weight individual weight for variable\n",
    "            #recalculating individual weights using all per-variable weights\n",
    "            data['w'] = 1\n",
    "            for variable2 in targets: #looping over variables within this to update weights across all\n",
    "                data['w'] = data['w'] * data['w_{}'.format(variable2)]\n",
    "        #showing weights after iteration            \n",
    "        print('Weights:')\n",
    "        print(pd.DataFrame(weights).unstack().dropna())\n",
    "    print('\\nFinal marginal distributions:')\n",
    "    for variable in targets:\n",
    "        print(data.groupby(variable).w.sum()/len(data))"
   ]
  },
  {
   "cell_type": "markdown",
   "metadata": {},
   "source": [
    "## Trying out the raking function"
   ]
  },
  {
   "cell_type": "code",
   "execution_count": 5,
   "metadata": {
    "scrolled": false
   },
   "outputs": [
    {
     "name": "stdout",
     "output_type": "stream",
     "text": [
      "Initial marginal distributions\n",
      "gender\n",
      "female    0.385\n",
      "male      0.615\n",
      "Name: w, dtype: float64\n",
      "Initial marginal distributions\n",
      "race\n",
      "black    0.130\n",
      "other    0.195\n",
      "white    0.675\n",
      "Name: w, dtype: float64\n",
      "Initial marginal distributions\n",
      "location\n",
      "rural       0.412\n",
      "suburban    0.382\n",
      "urban       0.206\n",
      "Name: w, dtype: float64\n",
      "\n",
      "Iteration 1\n",
      "Weights:\n",
      "gender    female      1.298701\n",
      "          male        0.813008\n",
      "race      black       1.544521\n",
      "          other       1.516088\n",
      "          white       0.743348\n",
      "location  rural       0.607510\n",
      "          suburban    0.897418\n",
      "          urban       2.015351\n",
      "dtype: float64\n",
      "\n",
      "Iteration 2\n",
      "Weights:\n",
      "gender    female      1.333408\n",
      "          male        0.792383\n",
      "race      black       1.437017\n",
      "          other       1.622402\n",
      "          white       0.736431\n",
      "location  rural       0.602297\n",
      "          suburban    0.893687\n",
      "          urban       2.033783\n",
      "dtype: float64\n",
      "\n",
      "Iteration 3\n",
      "Weights:\n",
      "gender    female      1.333014\n",
      "          male        0.792618\n",
      "race      black       1.435329\n",
      "          other       1.624539\n",
      "          white       0.736196\n",
      "location  rural       0.602266\n",
      "          suburban    0.893597\n",
      "          urban       2.034026\n",
      "dtype: float64\n",
      "\n",
      "Iteration 4\n",
      "Weights:\n",
      "gender    female      1.333003\n",
      "          male        0.792624\n",
      "race      black       1.435311\n",
      "          other       1.624569\n",
      "          white       0.736192\n",
      "location  rural       0.602266\n",
      "          suburban    0.893596\n",
      "          urban       2.034029\n",
      "dtype: float64\n",
      "\n",
      "Iteration 5\n",
      "Weights:\n",
      "gender    female      1.333003\n",
      "          male        0.792625\n",
      "race      black       1.435311\n",
      "          other       1.624569\n",
      "          white       0.736191\n",
      "location  rural       0.602266\n",
      "          suburban    0.893596\n",
      "          urban       2.034029\n",
      "dtype: float64\n",
      "\n",
      "Final marginal distributions:\n",
      "gender\n",
      "female    0.5\n",
      "male      0.5\n",
      "Name: w, dtype: float64\n",
      "race\n",
      "black    0.2\n",
      "other    0.3\n",
      "white    0.5\n",
      "Name: w, dtype: float64\n",
      "location\n",
      "rural       0.25\n",
      "suburban    0.35\n",
      "urban       0.40\n",
      "Name: w, dtype: float64\n"
     ]
    }
   ],
   "source": [
    "rake(df, iterations=5)"
   ]
  },
  {
   "cell_type": "markdown",
   "metadata": {},
   "source": [
    "##### So by the 5th iteration, the weights have converged to a stable set of values, and the weighted marginal distributions match the targets exactly."
   ]
  },
  {
   "cell_type": "markdown",
   "metadata": {},
   "source": [
    "## Creating a synthetic outcome to test out\n",
    "This is a really simple binary outcome that has a probability of 0.5 of being = 1 for black females and urban males, and is always 0 for everyone else. Given that the distributions of demographics are independent, black females repesent 10% of the population and urban males represent 20%, so with 30% of the population between them and half of those peoples' responses being = 1, the actual population distribution of this outcome is 15% = 1, 85% = 0. Let's see how close we get with weighted and unweighted estimates."
   ]
  },
  {
   "cell_type": "code",
   "execution_count": 6,
   "metadata": {},
   "outputs": [],
   "source": [
    "df['x'] = 0 #starting with 0, then updating for the two chosen groups\n",
    "df.loc[((df.gender=='female')&(df.race=='black')),'x'] = np.random.binomial(1, 0.5, size=\n",
    "                                                    len(df[((df.gender=='female')&(df.race=='black'))]))\n",
    "df.loc[((df.gender=='male')&(df.location=='urban')),'x'] = np.random.binomial(1, 0.5, size=\n",
    "                                                    len(df[((df.gender=='male')&(df.location=='urban'))]))"
   ]
  },
  {
   "cell_type": "markdown",
   "metadata": {},
   "source": [
    "#### Unweighted analysis"
   ]
  },
  {
   "cell_type": "code",
   "execution_count": 7,
   "metadata": {
    "scrolled": true
   },
   "outputs": [
    {
     "name": "stdout",
     "output_type": "stream",
     "text": [
      "Mean   = 0.095\n",
      "SE     = 0.009276910103103306\n",
      "95% CI = (0.07681725619791752,0.11318274380208249)\n"
     ]
    }
   ],
   "source": [
    "mean = df.x.mean()\n",
    "sem = df.x.sem()\n",
    "print('Mean   = {}'.format(mean))\n",
    "print('SE     = {}'.format(sem))\n",
    "print('95% CI = ({},{})'.format(mean-1.96*sem,mean+1.96*sem))"
   ]
  },
  {
   "cell_type": "markdown",
   "metadata": {},
   "source": [
    "#### Weighted analysis (using statsmodels for weighting)"
   ]
  },
  {
   "cell_type": "code",
   "execution_count": 8,
   "metadata": {},
   "outputs": [
    {
     "name": "stdout",
     "output_type": "stream",
     "text": [
      "Mean   = 0.15924838744083486\n",
      "SE     = 0.011576802706240952\n",
      "95% CI = (0.1365578541366026,0.18193892074506712)\n"
     ]
    }
   ],
   "source": [
    "from statsmodels.stats.weightstats import DescrStatsW\n",
    "mean = DescrStatsW(df.x, df.w).mean\n",
    "sem = DescrStatsW(df.x, df.w).std_mean\n",
    "print('Mean   = {}'.format(mean))\n",
    "print('SE     = {}'.format(sem))\n",
    "print('95% CI = ({},{})'.format(mean-1.96*sem,mean+1.96*sem))\n"
   ]
  },
  {
   "cell_type": "markdown",
   "metadata": {},
   "source": [
    "##### So the takeaway here is that the unweighted analysis provided a biased estimate, while the weighted analysis got substantially closer to the actual value of 0.15. And the true result was within the 95% confidence interval, though that's not guaranteed. (You can try setting different sample sizes and random seeds at the beginning and see how these results change - as sample sizes increase, the weighted result will converge on the true value, but the unweighted result will not.)"
   ]
  }
 ],
 "metadata": {
  "kernelspec": {
   "display_name": "Python 3",
   "language": "python",
   "name": "python3"
  },
  "language_info": {
   "codemirror_mode": {
    "name": "ipython",
    "version": 3
   },
   "file_extension": ".py",
   "mimetype": "text/x-python",
   "name": "python",
   "nbconvert_exporter": "python",
   "pygments_lexer": "ipython3",
   "version": "3.7.3"
  }
 },
 "nbformat": 4,
 "nbformat_minor": 2
}
